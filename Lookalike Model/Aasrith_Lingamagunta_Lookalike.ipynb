{
 "cells": [
  {
   "cell_type": "code",
   "execution_count": 7,
   "id": "ccbfd120",
   "metadata": {},
   "outputs": [
    {
     "name": "stdout",
     "output_type": "stream",
     "text": [
      "Classification Report:\n",
      "              precision    recall  f1-score   support\n",
      "\n",
      "           0       0.99      1.00      1.00       226\n",
      "           1       1.00      0.97      0.99        74\n",
      "\n",
      "    accuracy                           0.99       300\n",
      "   macro avg       1.00      0.99      0.99       300\n",
      "weighted avg       0.99      0.99      0.99       300\n",
      "\n",
      "Confusion Matrix:\n",
      "[[226   0]\n",
      " [  2  72]]\n",
      "Model Accuracy: 0.9933\n"
     ]
    }
   ],
   "source": [
    "import pandas as pd\n",
    "from sklearn.model_selection import train_test_split\n",
    "from sklearn.linear_model import LogisticRegression\n",
    "from sklearn.preprocessing import StandardScaler\n",
    "from sklearn.metrics import classification_report, confusion_matrix, accuracy_score\n",
    "\n",
    "# Step 1: Load datasets\n",
    "customers = pd.read_csv(r'C:\\Users\\aasri\\Zeotap_Assignment\\dataset\\Customers.csv')\n",
    "transactions = pd.read_csv(r'C:\\Users\\aasri\\Zeotap_Assignment\\dataset\\Transactions.csv')\n",
    "\n",
    "# Step 2: Merge datasets and create features\n",
    "merged_data = pd.merge(customers, transactions, on='CustomerID')\n",
    "transaction_count = transactions.groupby('CustomerID')['TransactionID'].count().reset_index()\n",
    "transaction_count.rename(columns={'TransactionID': 'TransactionCount'}, inplace=True)\n",
    "merged_data = pd.merge(merged_data, transaction_count, on='CustomerID')\n",
    "\n",
    "# Step 3: Select features for prediction\n",
    "features = merged_data[['TotalValue', 'TransactionCount']]\n",
    "\n",
    "# Step 4: Scale the features\n",
    "scaler = StandardScaler()\n",
    "features_scaled = scaler.fit_transform(features)\n",
    "\n",
    "# Step 5: Define labels for high-value customers\n",
    "# High-value customers: Top 25% based on TotalValue\n",
    "threshold = merged_data['TotalValue'].quantile(0.75)\n",
    "merged_data['HighValueCustomer'] = (merged_data['TotalValue'] >= threshold).astype(int)\n",
    "\n",
    "# Step 6: Define features (X) and target (y)\n",
    "X = features_scaled  # Standardized features\n",
    "y = merged_data['HighValueCustomer']\n",
    "\n",
    "# Step 7: Split the data into training and testing sets (70% train, 30% test)\n",
    "X_train, X_test, y_train, y_test = train_test_split(X, y, test_size=0.3, random_state=42)\n",
    "\n",
    "# Step 8: Train the Logistic Regression model\n",
    "model = LogisticRegression()\n",
    "model.fit(X_train, y_train)\n",
    "\n",
    "# Step 9: Make predictions and evaluate the model\n",
    "y_pred = model.predict(X_test)\n",
    "\n",
    "# Classification report and confusion matrix\n",
    "print(\"Classification Report:\")\n",
    "print(classification_report(y_test, y_pred))\n",
    "\n",
    "print(\"Confusion Matrix:\")\n",
    "print(confusion_matrix(y_test, y_pred))\n",
    "\n",
    "# accuracy score\n",
    "accuracy = accuracy_score(y_test, y_pred)\n",
    "print(f\"Model Accuracy: {accuracy:.4f}\")\n"
   ]
  },
  {
   "cell_type": "code",
   "execution_count": 8,
   "id": "7513819e",
   "metadata": {},
   "outputs": [],
   "source": [
    "# Save high-value predictions to CSV\n",
    "merged_data['Prediction'] = model.predict(features_scaled)\n",
    "merged_data[['CustomerID', 'TotalValue', 'TransactionCount', 'HighValueCustomer', 'Prediction']].to_csv(\n",
    "    'Lookalike_Model_Results.csv', index=False\n",
    ")\n"
   ]
  },
  {
   "cell_type": "code",
   "execution_count": null,
   "id": "35fd0b12",
   "metadata": {},
   "outputs": [],
   "source": []
  }
 ],
 "metadata": {
  "kernelspec": {
   "display_name": "Python 3 (ipykernel)",
   "language": "python",
   "name": "python3"
  },
  "language_info": {
   "codemirror_mode": {
    "name": "ipython",
    "version": 3
   },
   "file_extension": ".py",
   "mimetype": "text/x-python",
   "name": "python",
   "nbconvert_exporter": "python",
   "pygments_lexer": "ipython3",
   "version": "3.10.9"
  }
 },
 "nbformat": 4,
 "nbformat_minor": 5
}
